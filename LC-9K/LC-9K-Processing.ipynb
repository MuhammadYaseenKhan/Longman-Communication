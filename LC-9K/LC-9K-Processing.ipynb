{
 "cells": [
  {
   "cell_type": "markdown",
   "metadata": {},
   "source": [
    "# Pre-processing the data"
   ]
  },
  {
   "cell_type": "code",
   "execution_count": 14,
   "metadata": {},
   "outputs": [],
   "source": [
    "lines = []\n",
    "with open('longman-communication-9000.txt', 'r') as file:\n",
    "    for line in file:\n",
    "        tokens = line.strip().split()\n",
    "        if len(tokens) == 1:\n",
    "            word = tokens[0]\n",
    "            number = '-'\n",
    "            pos = '-'\n",
    "            lines.append([word, number, pos])\n",
    "        else:            \n",
    "            word = tokens[0]\n",
    "            number = tokens[1] if tokens[1].isdigit() == True else '-'\n",
    "            pos = tokens[2:] if number is not None else tokens[1:]\n",
    "            pos = [x.replace(',', '') for x in pos]\n",
    "            pos = ','.join(pos) if len(pos) > 0 else '-'\n",
    "            lines.append([word, number, pos])"
   ]
  },
  {
   "cell_type": "markdown",
   "metadata": {},
   "source": [
    "# Saving a plain tab-separated file "
   ]
  },
  {
   "cell_type": "code",
   "execution_count": 15,
   "metadata": {},
   "outputs": [],
   "source": [
    "with open('longman-communication-9000.tsv', 'w') as file:\n",
    "    file.write('\\t'.join(['# word','quad','pos']) + '\\n')\n",
    "    for l in lines:\n",
    "        file.write('\\t'.join(l) + '\\n')"
   ]
  },
  {
   "cell_type": "markdown",
   "metadata": {},
   "source": [
    "# Saving a JSON file "
   ]
  },
  {
   "cell_type": "code",
   "execution_count": 16,
   "metadata": {},
   "outputs": [],
   "source": [
    "import json\n",
    "with open('longman-communication-9000.json', 'w') as file:\n",
    "    json.dump(lines, file)"
   ]
  },
  {
   "cell_type": "markdown",
   "metadata": {},
   "source": [
    "# Saving a Dictionary where starting alphabet is the key"
   ]
  },
  {
   "cell_type": "code",
   "execution_count": 17,
   "metadata": {},
   "outputs": [],
   "source": [
    "dlines = dict()\n",
    "for l in lines:\n",
    "    if l[0][0] not in dlines:\n",
    "        dlines[l[0][0]] = [l]\n",
    "    else:\n",
    "        dlines[l[0][0]].append(l)\n",
    "with open('longman-communication-9000-alpha-dictionary.json', 'w') as file:\n",
    "    json.dump(dlines, file)"
   ]
  },
  {
   "cell_type": "markdown",
   "metadata": {},
   "source": [
    "# Saving a Dictionary where quadrant is the key"
   ]
  },
  {
   "cell_type": "code",
   "execution_count": 18,
   "metadata": {},
   "outputs": [],
   "source": [
    "dlines = dict()\n",
    "for l in lines:\n",
    "    if l[1] not in dlines:\n",
    "        dlines[l[1]] = [l]\n",
    "    else:\n",
    "        dlines[l[1]].append(l)\n",
    "with open('longman-communication-9000-quadrant-dictionary.json', 'w') as file:\n",
    "    json.dump(dlines, file)"
   ]
  },
  {
   "cell_type": "markdown",
   "metadata": {},
   "source": [
    "# Saving a Dictionary where parts-of-speech is the key"
   ]
  },
  {
   "cell_type": "code",
   "execution_count": 21,
   "metadata": {},
   "outputs": [],
   "source": [
    "dlines = dict()\n",
    "for l in lines:\n",
    "    if ',' in l[-1]:\n",
    "        for t in l[-1].split(','):\n",
    "            if t not in dlines:\n",
    "                dlines[t] = [l]\n",
    "            else:\n",
    "                dlines[t].append(l)\n",
    "with open('longman-communication-9000-pos-dictionary.json', 'w') as file:\n",
    "    json.dump(dlines, file)"
   ]
  },
  {
   "cell_type": "markdown",
   "metadata": {},
   "source": [
    "# Saving a Dictionary where word is the key"
   ]
  },
  {
   "cell_type": "code",
   "execution_count": 22,
   "metadata": {},
   "outputs": [],
   "source": [
    "dlines = dict()\n",
    "for l in lines:\n",
    "    if l[0] not in dlines:\n",
    "        dlines[l[0]] = [l]\n",
    "    else:\n",
    "        dlines[l[0]].append(l)\n",
    "with open('longman-communication-9000-word-dictionary.json', 'w') as file:\n",
    "    json.dump(dlines, file)"
   ]
  },
  {
   "cell_type": "code",
   "execution_count": null,
   "metadata": {},
   "outputs": [],
   "source": []
  }
 ],
 "metadata": {
  "kernelspec": {
   "display_name": "Python 3",
   "language": "python",
   "name": "python3"
  },
  "language_info": {
   "codemirror_mode": {
    "name": "ipython",
    "version": 3
   },
   "file_extension": ".py",
   "mimetype": "text/x-python",
   "name": "python",
   "nbconvert_exporter": "python",
   "pygments_lexer": "ipython3",
   "version": "3.7.3"
  }
 },
 "nbformat": 4,
 "nbformat_minor": 2
}
