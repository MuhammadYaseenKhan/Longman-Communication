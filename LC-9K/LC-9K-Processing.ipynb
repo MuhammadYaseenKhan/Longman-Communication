{
 "cells": [
  {
   "cell_type": "code",
   "execution_count": 26,
   "metadata": {},
   "outputs": [],
   "source": [
    "lines = []\n",
    "with open('LC-9K/longman-communication-9000.txt', 'r') as file:\n",
    "    for line in file:\n",
    "        tokens = line.strip().split()\n",
    "        if len(tokens) == 1:\n",
    "            word = tokens[0]\n",
    "            number = '-'\n",
    "            pos = ''\n",
    "            lines.append([word, number, pos])\n",
    "        else:            \n",
    "            word = tokens[0]\n",
    "            number = tokens[1] if tokens[1].isdigit() == True else '-'\n",
    "            pos = tokens[2:] if number is not None else tokens[1:]\n",
    "            pos = [x.replace(',', '') for x in pos]\n",
    "            pos = ','.join(pos)\n",
    "            lines.append([word, number, pos])"
   ]
  },
  {
   "cell_type": "code",
   "execution_count": 27,
   "metadata": {},
   "outputs": [],
   "source": [
    "with open('LC-9K/longman-communication-9000.tsv', 'w') as file:\n",
    "    file.write('\\t'.join(['# word','quad','pos']) + '\\n')\n",
    "    for l in lines:\n",
    "        file.write('\\t'.join(l) + '\\n')"
   ]
  }
 ],
 "metadata": {
  "kernelspec": {
   "display_name": "Python 3",
   "language": "python",
   "name": "python3"
  },
  "language_info": {
   "codemirror_mode": {
    "name": "ipython",
    "version": 3
   },
   "file_extension": ".py",
   "mimetype": "text/x-python",
   "name": "python",
   "nbconvert_exporter": "python",
   "pygments_lexer": "ipython3",
   "version": "3.7.3"
  }
 },
 "nbformat": 4,
 "nbformat_minor": 2
}
